{
  "cells": [
    {
      "cell_type": "code",
      "execution_count": null,
      "metadata": {
        "colab": {
          "base_uri": "https://localhost:8080/",
          "height": 36
        },
        "id": "2W9x6L-LANM3",
        "outputId": "91c9e9b1-6573-4673-d4fd-35fe420fe250"
      },
      "outputs": [
        {
          "data": {
            "application/vnd.google.colaboratory.intrinsic+json": {
              "type": "string"
            },
            "text/plain": [
              "'1.9.0'"
            ]
          },
          "execution_count": 1,
          "metadata": {},
          "output_type": "execute_result"
        }
      ],
      "source": [
        "from google import genai\n",
        "from google.genai import types\n",
        "\n",
        "from IPython.display import Markdown\n",
        "\n",
        "genai.__version__"
      ]
    },
    {
      "cell_type": "code",
      "execution_count": null,
      "metadata": {
        "id": "2vVGyml-AIdO"
      },
      "outputs": [],
      "source": [
        "def recommend_from_local():\n",
        "  #Right now, we are hard coding the contents, later we can add the actual method call from here, which return the JSON.\n",
        "  products_json = [\n",
        "  {\n",
        "    \"product_name\": \"iphone 15 pro max 128GB 8GB\",\n",
        "    \"price\": \"$999\",\n",
        "    \"number_of_ratings\": \"2343\",\n",
        "    \"category\": \"Electronics\",\n",
        "    \"sub_category\": \"Smartphones\",\n",
        "    \"product_link\": \"https://www.amazon.com/\"\n",
        "  },\n",
        "  {\n",
        "    \"product_name\": \"iphone 16 pro max 256 GB 16 GB\",\n",
        "    \"price\": \"$1199\",\n",
        "    \"number_of_ratings\": \"243\",\n",
        "    \"category\": \"Electronics\",\n",
        "    \"sub_category\": \"Smartphones\",\n",
        "    \"product_link\": \"https://www.amazon.com/\"\n",
        "  },\n",
        "  {\n",
        "    \"product_name\": \"google pixel\",\n",
        "    \"price\": \"$999\",\n",
        "    \"number_of_ratings\": \"23\",\n",
        "    \"category\": \"Electronics\",\n",
        "    \"sub_category\": \"Smartphones\",\n",
        "    \"product_link\": \"https://www.amazon.com/\"\n",
        "  },\n",
        "  {\n",
        "    \"product_name\": \"samsung galaxy z\",\n",
        "    \"price\": \"$999\",\n",
        "    \"number_of_ratings\": \"233\",\n",
        "    \"category\": \"Electronics\",\n",
        "    \"sub_category\": \"Smartphones\",\n",
        "    \"product_link\": \"https://www.amazon.com/\"\n",
        "  },\n",
        "  {\n",
        "    \"product_name\": \"iphone 16 e\",\n",
        "    \"price\": \"$999\",\n",
        "    \"number_of_ratings\": \"2343\",\n",
        "    \"category\": \"Electronics\",\n",
        "    \"sub_category\": \"Smartphones\",\n",
        "    \"product_link\": \"https://www.amazon.com/\"\n",
        "  }]\n",
        "\n",
        "  import json\n",
        "  prompt = f\"\"\"You are a helpful shopping assistant. You will be provided with a JSON containing details of up to 5 products\n",
        "  retrieved based on a user's query. The json contains relevant products fetched from the database based on user query.\n",
        "  Your task is to process this JSON and present the information in a user-friendly format.\n",
        "  For each product, please provide a concise summary highlighting its key features and explain why it might be relevant to the user's potential needs.\n",
        "\n",
        "  The JSON data for the products will be in the following format:\n",
        "\n",
        "  products_json = {products_json}\n",
        "  Please process this JSON and output a list of products, as bullets points for each information for given product. Seperate each proudct info with a line\n",
        "  where info about each product includes:\n",
        "\n",
        "  Product Name: (The name of the product)\n",
        "  Summary: (A brief summary of the product, focusing on its main features and benefits.)\n",
        "  Explanation: (A short explanation of why this product might be suitable, considering its category, sub-category, price, and ratings. Compare and contrast these detils with other products)\n",
        "  Link: (The product link)\n",
        "\n",
        "  The resultant data should be of str format. You can do necessary changes to your output and keep it as a string.\n",
        "  \"\"\"\n",
        "\n",
        "  client = genai.Client(api_key=GOOGLE_API_KEY)\n",
        "  answer = client.models.generate_content(\n",
        "    model=\"gemini-2.0-flash\",\n",
        "    contents=prompt)\n",
        "  return answer.text"
      ]
    },
    {
      "cell_type": "code",
      "execution_count": null,
      "metadata": {
        "colab": {
          "base_uri": "https://localhost:8080/"
        },
        "id": "H0Mb8sUGv-fv",
        "outputId": "7ec3fbc6-9f3c-40cb-cece-37b97ed6107e"
      },
      "outputs": [
        {
          "name": "stdout",
          "output_type": "stream",
          "text": [
            "\u001b[33mWARNING: Skipping kfp as it is not installed.\u001b[0m\u001b[33m\n",
            "\u001b[0m\u001b[33mWARNING: Skipping jupyterlab as it is not installed.\u001b[0m\u001b[33m\n",
            "\u001b[0m\u001b[33mWARNING: Skipping libpysal as it is not installed.\u001b[0m\u001b[33m\n",
            "\u001b[0m\u001b[33mWARNING: Skipping ydata-profiling as it is not installed.\u001b[0m\u001b[33m\n",
            "\u001b[2K     \u001b[90m━━━━━━━━━━━━━━━━━━━━━━━━━━━━━━━━━━━━━━━━\u001b[0m \u001b[32m43.5/43.5 kB\u001b[0m \u001b[31m1.9 MB/s\u001b[0m eta \u001b[36m0:00:00\u001b[0m\n",
            "\u001b[2K   \u001b[90m━━━━━━━━━━━━━━━━━━━━━━━━━━━━━━━━━━━━━━━━\u001b[0m \u001b[32m138.0/138.0 kB\u001b[0m \u001b[31m5.4 MB/s\u001b[0m eta \u001b[36m0:00:00\u001b[0m\n",
            "\u001b[2K   \u001b[90m━━━━━━━━━━━━━━━━━━━━━━━━━━━━━━━━━━━━━━━━\u001b[0m \u001b[32m42.0/42.0 kB\u001b[0m \u001b[31m2.6 MB/s\u001b[0m eta \u001b[36m0:00:00\u001b[0m\n",
            "\u001b[2K   \u001b[90m━━━━━━━━━━━━━━━━━━━━━━━━━━━━━━━━━━━━━━━━\u001b[0m \u001b[32m1.4/1.4 MB\u001b[0m \u001b[31m29.2 MB/s\u001b[0m eta \u001b[36m0:00:00\u001b[0m\n",
            "\u001b[2K   \u001b[90m━━━━━━━━━━━━━━━━━━━━━━━━━━━━━━━━━━━━━━━━\u001b[0m \u001b[32m42.0/42.0 kB\u001b[0m \u001b[31m2.9 MB/s\u001b[0m eta \u001b[36m0:00:00\u001b[0m\n",
            "\u001b[2K   \u001b[90m━━━━━━━━━━━━━━━━━━━━━━━━━━━━━━━━━━━━━━━━\u001b[0m \u001b[32m47.2/47.2 kB\u001b[0m \u001b[31m3.1 MB/s\u001b[0m eta \u001b[36m0:00:00\u001b[0m\n",
            "\u001b[2K   \u001b[90m━━━━━━━━━━━━━━━━━━━━━━━━━━━━━━━━━━━━━━━━\u001b[0m \u001b[32m194.8/194.8 kB\u001b[0m \u001b[31m14.1 MB/s\u001b[0m eta \u001b[36m0:00:00\u001b[0m\n",
            "\u001b[2K   \u001b[90m━━━━━━━━━━━━━━━━━━━━━━━━━━━━━━━━━━━━━━━━\u001b[0m \u001b[32m223.6/223.6 kB\u001b[0m \u001b[31m15.6 MB/s\u001b[0m eta \u001b[36m0:00:00\u001b[0m\n",
            "\u001b[?25h"
          ]
        }
      ],
      "source": [
        "# Remove conflicting packages from the Kaggle base environment.\n",
        "!pip uninstall -qqy kfp jupyterlab libpysal thinc spacy fastai ydata-profiling google-cloud-bigquery google-generativeai\n",
        "# Install langgraph and the packages used in this lab.\n",
        "!pip install -qU 'langgraph==0.3.21' 'langchain-google-genai==2.1.2' 'langgraph-prebuilt==0.1.7'"
      ]
    },
    {
      "cell_type": "code",
      "execution_count": null,
      "metadata": {
        "id": "gFc0I_flwNET"
      },
      "outputs": [],
      "source": [
        "from google.colab import userdata\n",
        "GOOGLE_API_KEY = userdata.get('GOOGLE_API_KEY')"
      ]
    },
    {
      "cell_type": "code",
      "execution_count": null,
      "metadata": {
        "id": "a_Fkt0eq3sRt"
      },
      "outputs": [],
      "source": [
        "from langgraph.graph import StateGraph, START, END\n",
        "from langgraph.prebuilt import ToolNode\n",
        "from langchain_google_genai import ChatGoogleGenerativeAI\n",
        "from langchain_core.messages import HumanMessage, AIMessage\n",
        "from langchain_core.tools import tool\n",
        "from typing import TypedDict, Literal\n",
        "from langgraph.graph.message import add_messages"
      ]
    },
    {
      "cell_type": "code",
      "execution_count": null,
      "metadata": {
        "id": "szLR5KT33tCR"
      },
      "outputs": [],
      "source": [
        "from typing import Annotated\n",
        "from typing_extensions import TypedDict, Dict\n",
        "\n",
        "from langgraph.graph.message import add_messages\n",
        "\n",
        "class SessionState(TypedDict):\n",
        "    \"\"\"State representing the customer's order conversation.\"\"\"\n",
        "\n",
        "    # The chat conversation. This preserves the conversation history\n",
        "    # between nodes. The `add_messages` annotation indicates to LangGraph\n",
        "    # that state is updated by appending returned messages, not replacing\n",
        "    # them.\n",
        "    messages: Annotated[list, add_messages]\n",
        "    #List of items added in the current order\n",
        "    # order: Dict[str, int]\n",
        "    order: list[str]\n",
        "    # Flag indicating that the order is placed and completed.\n",
        "    finished: bool\n",
        "\n",
        "ECCOBOT_SYSINT = (\n",
        "    \"system\",  # 'system' indicates the message is a system instruction.\n",
        "    \"You are EccoBot, an interactive e-commerce recommendation assistant. You help users discover products \"\n",
        "    \"based on their needs. You ONLY discuss products — no off-topic conversation is allowed, though you're welcome to be friendly and informative about products themselves.\\n\\n\"\n",
        "    \"Instructions:\\n\"\n",
        "    \"When the user asks about any product, identify the relevant keyword or phrase (e.g., 'Nike shoes', 'iPhone').\\n\"\n",
        "    \"Call the tool `get_recommendations` with the extracted keyword as the `key_word` argument.\\n\"\n",
        "    \"Once the tool returns product recommendations, present them to the user in a friendly, helpful tone.\\n\"\n",
        "    \"If the tool cannot find any relevant products, inform the user and ask if they have another product in mind.\\n\"\n",
        "    \"When the user is happy with a recommendation, say thank you and end the conversation.\\n\"\n",
        "    \"If a tool is not implemented yet or encounters an error, let the user know.\\n\\n\"\n",
        "    \"When get_recommendations returns the ouptut to you, print it in Markdown format\"\n",
        "    \"If the user wants to know more about a product that you recommended, you are free to use your pretrained knowledge and hep the user\"\n",
        "    \"As an interactive agent, ECCOBOT, you can make comparisions among products that are simlar(ex: iphone vs google pixel), if the user asks you to do comparisions\"\n",
        "    \"The resultant data should be of str format. You can do necessary changes to your output and keep it as a string.\"\n",
        "    \"User can order only the items that were recommended. You can call add_to_order to add the selected product to the order list with specified quantity. By default the quantity is 1.\"\n",
        "    \"User may not give the entire Product Name. You have to understand what user is asking and incase of ambiguity, check with the user.\"\n",
        "    \"Always confirm_order with the user (double-check) before calling place_order. Calling confirm_order will display the order items\"\n",
        "    \"to the user and returns their response to seeing the list. Their response may contain modifications.\"\n",
        "    \"Users can remove the products from the order list. calling remove_item_from_order will remove the given product form the order\"\n",
        "    \"You should look wheter the product is present in the order using get_order and remove only if the product is present in the order and if not, infrom the user.\"\n",
        "    \"Add items to the customer's order with add_to_order, and reset the order with clear_order.\"\n",
        "    \" To see the contents of the order so far, call get_order (this is shown to you, not the user) \"\n",
        "    \"User need to provide the address, and only then you can place the order. Use place_order to place the order\"\n",
        "    \"Once place_order has returned, tell the number of days its going to take to deliver thank the user for ordering!\"\n",
        "     \"\\n\\n\"\n",
        "    \"If any of the tools are unavailable, you can break the fourth wall and tell the user that \"\n",
        "    \"they have not implemented them yet and should keep reading to do so.\",\n",
        "\n",
        ")\n",
        "\n",
        "# This is the message with which the system opens the conversation.\n",
        "WELCOME_MSG = \"Welcome to Recco. Type `q` to quit. How may I help you today?\""
      ]
    },
    {
      "cell_type": "code",
      "execution_count": null,
      "metadata": {
        "id": "9KxFCPO84Kdf"
      },
      "outputs": [],
      "source": [
        "from langgraph.graph import StateGraph, START, END\n",
        "from langchain_google_genai import ChatGoogleGenerativeAI\n",
        "\n",
        "# Try using different models. The Gemini 2.0 flash model is highly\n",
        "# capable, great with tools, and has a generous free tier. If you\n",
        "# try the older 1.5 models, note that the `pro` models are better at\n",
        "# complex multi-tool cases like this, but the `flash` models are\n",
        "# faster and have more free quota.\n",
        "# Check out the features and quota differences here:\n",
        "#  - https://ai.google.dev/gemini-api/docs/models/gemini\n",
        "llm = ChatGoogleGenerativeAI(model=\"gemini-2.0-flash\", google_api_key=GOOGLE_API_KEY)\n",
        "\n",
        "\n",
        "def chatbot(state: SessionState) -> SessionState:\n",
        "    \"\"\"The chatbot itself. A simple wrapper around the model's own chat interface.\"\"\"\n",
        "    message_history = [ECCOBOT_SYSINT] + state[\"messages\"]\n",
        "    return {\"messages\": [llm.invoke(message_history)]}\n",
        "\n",
        "\n",
        "# Set up the initial graph based on our state definition.\n",
        "graph_builder = StateGraph(SessionState)\n",
        "\n",
        "# Add the chatbot function to the app graph as a node called \"chatbot\".\n",
        "graph_builder.add_node(\"chatbot\", chatbot)\n",
        "\n",
        "# Define the chatbot node as the app entrypoint.\n",
        "graph_builder.add_edge(START, \"chatbot\")\n",
        "\n",
        "chat_graph = graph_builder.compile()"
      ]
    },
    {
      "cell_type": "code",
      "execution_count": null,
      "metadata": {
        "colab": {
          "base_uri": "https://localhost:8080/",
          "height": 151
        },
        "id": "Yg5Xynr35AtX",
        "outputId": "86291af7-26ea-45e7-f2a7-f809f2d44c03"
      },
      "outputs": [
        {
          "data": {
            "image/png": "[encoded data removed]",
            "text/plain": [
              "<IPython.core.display.Image object>"
            ]
          },
          "execution_count": 80,
          "metadata": {},
          "output_type": "execute_result"
        }
      ],
      "source": [
        "from IPython.display import Image, display\n",
        "\n",
        "Image(chat_graph.get_graph().draw_mermaid_png())"
      ]
    },
    {
      "cell_type": "code",
      "execution_count": null,
      "metadata": {
        "colab": {
          "base_uri": "https://localhost:8080/"
        },
        "id": "gFSkVuIs5Dyc",
        "outputId": "23815885-c75c-4fa5-bd49-3c5f8ce8e46d"
      },
      "outputs": [
        {
          "name": "stdout",
          "output_type": "stream",
          "text": [
            "HumanMessage: Hello, what can you do?\n",
            "AIMessage: Hi there! I'm EccoBot, your personal e-commerce assistant. I can help you find the perfect products based on what you need. Just tell me what you're looking for, and I'll provide recommendations.\n"
          ]
        }
      ],
      "source": [
        "from pprint import pprint\n",
        "\n",
        "user_msg = \"Hello, what can you do?\"\n",
        "state = chat_graph.invoke({\"messages\": [user_msg]})\n",
        "\n",
        "# The state object contains lots of information. Uncomment the pprint lines to see it all.\n",
        "# pprint(state)\n",
        "\n",
        "# Note that the final state now has 2 messages. Our HumanMessage, and an additional AIMessage.\n",
        "for msg in state[\"messages\"]:\n",
        "    print(f\"{type(msg).__name__}: {msg.content}\")"
      ]
    },
    {
      "cell_type": "code",
      "execution_count": null,
      "metadata": {
        "colab": {
          "base_uri": "https://localhost:8080/"
        },
        "id": "IcYUroQY5JTw",
        "outputId": "d502eac6-5b00-477c-9e06-7ef2f2319b20"
      },
      "outputs": [
        {
          "name": "stdout",
          "output_type": "stream",
          "text": [
            "HumanMessage: Hello, what can you do?\n",
            "AIMessage: Hi there! I'm EccoBot, your personal e-commerce assistant. I can help you find the perfect products based on what you need. Just tell me what you're looking for, and I'll provide recommendations.\n",
            "HumanMessage: Oh great, do you know any new iphones?\n",
            "AIMessage: ```tool_code\n",
            "get_recommendations(key_word='iPhone')\n",
            "```\n",
            "HumanMessage: Oh great, do you know about Google pixel 6A?\n",
            "AIMessage: ```tool_code\n",
            "get_recommendations(key_word='Google Pixel 6A')\n",
            "```\n"
          ]
        }
      ],
      "source": [
        "user_msg = \"Oh great, do you know about Google pixel 6A?\"\n",
        "\n",
        "state[\"messages\"].append(user_msg)\n",
        "state = chat_graph.invoke(state)\n",
        "\n",
        "# pprint(state)\n",
        "for msg in state[\"messages\"]:\n",
        "    print(f\"{type(msg).__name__}: {msg.content}\")"
      ]
    },
    {
      "cell_type": "code",
      "execution_count": null,
      "metadata": {
        "id": "nGOaWT4j7g2g"
      },
      "outputs": [],
      "source": [
        "from langchain_core.messages.ai import AIMessage\n",
        "\n",
        "\n",
        "def human_node(state: SessionState) -> SessionState:\n",
        "    \"\"\"Display the last model message to the user, and receive the user's input.\"\"\"\n",
        "    last_msg = state[\"messages\"][-1]\n",
        "    print(\"Model:\", last_msg.content)\n",
        "\n",
        "    user_input = input(\"User: \")\n",
        "\n",
        "    # If it looks like the user is trying to quit, flag the conversation\n",
        "    # as over.\n",
        "    if user_input in {\"q\", \"quit\", \"exit\", \"goodbye\"}:\n",
        "        state[\"finished\"] = True\n",
        "\n",
        "    return state | {\"messages\": [(\"user\", user_input)]}\n",
        "\n",
        "def chatbot_with_welcome_msg(state: SessionState) -> SessionState:\n",
        "    \"\"\"The chatbot itself. A wrapper around the model's own chat interface.\"\"\"\n",
        "\n",
        "    if state[\"messages\"]:\n",
        "        # If there are messages, continue the conversation with the Gemini model.\n",
        "        new_output = llm.invoke([ECCOBOT_SYSINT] + state[\"messages\"])\n",
        "    else:\n",
        "        # If there are no messages, start with the welcome message.\n",
        "        new_output = AIMessage(content=WELCOME_MSG)\n",
        "\n",
        "    return state | {\"messages\": [new_output]}\n",
        "\n",
        "\n",
        "# Start building a new graph.\n",
        "graph_builder = StateGraph(SessionState)\n",
        "\n",
        "# Add the chatbot and human nodes to the app graph.\n",
        "graph_builder.add_node(\"chatbot\", chatbot_with_welcome_msg)\n",
        "graph_builder.add_node(\"human\", human_node)\n",
        "\n",
        "# Start with the chatbot again.\n",
        "graph_builder.add_edge(START, \"chatbot\")\n",
        "\n",
        "# The chatbot will always go to the human next.\n",
        "graph_builder.add_edge(\"chatbot\", \"human\");\n",
        "\n"
      ]
    },
    {
      "cell_type": "code",
      "execution_count": null,
      "metadata": {
        "colab": {
          "base_uri": "https://localhost:8080/",
          "height": 350
        },
        "id": "Z65U2T4X7yJ9",
        "outputId": "20b0e4b9-7a34-48cc-c507-db3097d61128"
      },
      "outputs": [
        {
          "data": {
            "image/png": "[encoded data removed]",
            "text/plain": [
              "<IPython.core.display.Image object>"
            ]
          },
          "execution_count": 85,
          "metadata": {},
          "output_type": "execute_result"
        }
      ],
      "source": [
        "from typing import Literal\n",
        "\n",
        "\n",
        "def maybe_exit_human_node(state: SessionState) -> Literal[\"chatbot\", \"__end__\"]:\n",
        "    \"\"\"Route to the chatbot, unless it looks like the user is exiting.\"\"\"\n",
        "    if state.get(\"finished\", False):\n",
        "        return END\n",
        "    else:\n",
        "        return \"chatbot\"\n",
        "\n",
        "\n",
        "graph_builder.add_conditional_edges(\"human\", maybe_exit_human_node)\n",
        "\n",
        "chat_with_human_graph = graph_builder.compile()\n",
        "\n",
        "Image(chat_with_human_graph.get_graph().draw_mermaid_png())"
      ]
    },
    {
      "cell_type": "code",
      "execution_count": null,
      "metadata": {
        "colab": {
          "base_uri": "https://localhost:8080/"
        },
        "id": "pv7XnesV73O5",
        "outputId": "d07392c2-3ebe-49d9-b328-f15c4c27e330"
      },
      "outputs": [
        {
          "name": "stdout",
          "output_type": "stream",
          "text": [
            "Model: Welcome to Recco. Type `q` to quit. How may I help you today?\n",
            "User: what can you do?\n",
            "Model: I can help you discover products based on your needs and preferences. Just tell me what you're looking for, and I'll provide recommendations. For example, you can ask me about 'Nike shoes' or 'iPhone'.\n",
            "User: show me iphones\n",
            "Model: ```tool_code\n",
            "get_recommendations(key_word='iPhone')\n",
            "```\n",
            "User: q\n"
          ]
        }
      ],
      "source": [
        "config = {\"recursion_limit\": 100}\n",
        "state = chat_with_human_graph.invoke({\"messages\": []}, config)"
      ]
    },
    {
      "cell_type": "code",
      "execution_count": null,
      "metadata": {
        "id": "Akp88jKU5yYK"
      },
      "outputs": [],
      "source": [
        "from typing import Annotated, Literal\n",
        "from typing_extensions import TypedDict\n",
        "from langchain_core.messages import BaseMessage, AIMessage, HumanMessage\n",
        "from langchain_core.tools import tool\n",
        "from langchain_core.pydantic_v1 import BaseModel, Field\n",
        "from langchain_google_genai import ChatGoogleGenerativeAI\n",
        "from langgraph.graph import StateGraph, START\n",
        "from langgraph.graph.message import add_messages\n",
        "from langgraph.prebuilt import ToolNode\n",
        "import json\n",
        "\n",
        "# --- Tool Definition ---\n",
        "class ProductSearchArgs(BaseModel):\n",
        "    key_word: str = Field(description=\"A keyword or phrase representing the type of product the user is searching for\", json_schema_extra={\"type\": \"string\"})\n",
        "\n",
        "@tool(args_schema=ProductSearchArgs)\n",
        "def get_recommendations(key_word: str) -> str:\n",
        "    \"\"\"\n",
        "    Fetches product recommendations based on a given keyword or phrase.\n",
        "    \"\"\"\n",
        "    result = recommend_from_local(key_word)\n",
        "    return result\n",
        "\n",
        "import json\n",
        "# import google.generativeai as genai  # Make sure you have this import at the top\n",
        "\n",
        "def recommend_from_local(key_word: str) -> str:\n",
        "    # Right now, we are hard coding the contents, later we can add the actual method call from here, which return the JSON.\n",
        "    products_json_raw = products_dict()\n",
        "\n",
        "    # # Filter products based on the key_word (case-insensitive)\n",
        "    # filtered_products = [\n",
        "    #     p for p in products_json_raw\n",
        "    #     if key_word.lower() in p[\"product_name\"].lower()\n",
        "    #        or key_word.lower() in p.get(\"category\", \"\").lower()\n",
        "    #        or key_word.lower() in p.get(\"sub_category\", \"\").lower()\n",
        "    # ]\n",
        "\n",
        "    products_json_string = json.dumps(products_json_raw)\n",
        "\n",
        "    prompt = f\"\"\"You are a helpful shopping assistant. You will be provided with a JSON containing details of up to 5 products\n",
        "retrieved based on a user's query. The json contains relevant products fetched from the database based on user query.\n",
        "Your task is to process this JSON and present the information in a user-friendly format.\n",
        "For each product, please provide a concise summary highlighting its key features and explain why it might be relevant to the user's potential needs.\n",
        "\n",
        "The JSON data for the products will be in the following format:\n",
        "\n",
        "{products_json_string}\n",
        "Please process this JSON and output a list of products, as bullets points for each information for given product. Seperate each proudct info with a line\n",
        "where info about each product includes:\n",
        "\n",
        "Product Name: (The name of the product)\n",
        "Summary: (A brief summary of the product, focusing on its main features and benefits.)\n",
        "Explanation: (A short explanation of why this product might be suitable, considering its category, sub-category, price, and ratings. Compare and contrast these detils with other products)\n",
        "Link: (The product link)\n",
        "\"\"\"\n",
        "\n",
        "\n",
        "    client = genai.Client(api_key=GOOGLE_API_KEY)\n",
        "    answer = client.models.generate_content(\n",
        "        model=\"gemini-2.0-flash\",\n",
        "        contents=prompt)\n",
        "    return answer.text\n",
        "\n",
        "\n",
        "def products_dict():\n",
        "  results = [\n",
        "        {\n",
        "            \"product_name\": \"iphone 15 pro max 128GB 8GB\",\n",
        "            \"price\": \"$999\",\n",
        "            \"number_of_ratings\": \"2343\",\n",
        "            \"category\": \"Electronics\",\n",
        "            \"sub_category\": \"Smartphones\",\n",
        "            \"product_link\": \"https://www.amazon.com/\"\n",
        "        },\n",
        "        {\n",
        "            \"product_name\": \"iphone 16 pro max 256 GB 16 GB\",\n",
        "            \"price\": \"$1199\",\n",
        "            \"number_of_ratings\": \"243\",\n",
        "            \"category\": \"Electronics\",\n",
        "            \"sub_category\": \"Smartphones\",\n",
        "            \"product_link\": \"https://www.amazon.com/\"\n",
        "        },\n",
        "        {\n",
        "            \"product_name\": \"google pixel\",\n",
        "            \"price\": \"$999\",\n",
        "            \"number_of_ratings\": \"23\",\n",
        "            \"category\": \"Electronics\",\n",
        "            \"sub_category\": \"Smartphones\",\n",
        "            \"product_link\": \"https://www.amazon.com/\"\n",
        "        },\n",
        "        {\n",
        "            \"product_name\": \"samsung galaxy z\",\n",
        "            \"price\": \"$999\",\n",
        "            \"number_of_ratings\": \"233\",\n",
        "            \"category\": \"Electronics\",\n",
        "            \"sub_category\": \"Smartphones\",\n",
        "            \"product_link\": \"https://www.amazon.com/\"\n",
        "        },\n",
        "        {\n",
        "            \"product_name\": \"iphone 16 e\",\n",
        "            \"price\": \"$999\",\n",
        "            \"number_of_ratings\": \"2343\",\n",
        "            \"category\": \"Electronics\",\n",
        "            \"sub_category\": \"Smartphones\",\n",
        "            \"product_link\": \"https://www.amazon.com/\"\n",
        "        }\n",
        "    ]\n",
        "  print(\"Hello world\")\n",
        "  return results\n"
      ]
    },
    {
      "cell_type": "code",
      "execution_count": null,
      "metadata": {
        "colab": {
          "base_uri": "https://localhost:8080/",
          "height": 350
        },
        "id": "aV-xkG8A5_3g",
        "outputId": "69381dbc-e9d6-42aa-9c2b-061991f928f2"
      },
      "outputs": [
        {
          "data": {
            "image/png": "[encoded data removed]",
            "text/plain": [
              "<IPython.core.display.Image object>"
            ]
          },
          "execution_count": 88,
          "metadata": {},
          "output_type": "execute_result"
        }
      ],
      "source": [
        "from langgraph.prebuilt import ToolNode\n",
        "\n",
        "\n",
        "# Define the tools and create a \"tools\" node.\n",
        "tools = [get_recommendations]\n",
        "tool_node = ToolNode(tools)\n",
        "\n",
        "# Attach the tools to the model so that it knows what it can call.\n",
        "llm_with_tools = llm.bind_tools(tools)\n",
        "\n",
        "\n",
        "def maybe_route_to_tools(state: SessionState) -> Literal[\"tools\", \"human\"]:\n",
        "    \"\"\"Route between human or tool nodes, depending if a tool call is made.\"\"\"\n",
        "    if not (msgs := state.get(\"messages\", [])):\n",
        "        raise ValueError(f\"No messages found when parsing state: {state}\")\n",
        "\n",
        "    # Only route based on the last message.\n",
        "    msg = msgs[-1]\n",
        "\n",
        "    # When the chatbot returns tool_calls, route to the \"tools\" node.\n",
        "    if hasattr(msg, \"tool_calls\") and len(msg.tool_calls) > 0:\n",
        "        return \"tools\"\n",
        "    else:\n",
        "        return \"human\"\n",
        "\n",
        "\n",
        "def chatbot_with_tools(state: SessionState) -> SessionState:\n",
        "    \"\"\"The chatbot with tools. A simple wrapper around the model's own chat interface.\"\"\"\n",
        "    defaults = {\"finished\": False}\n",
        "\n",
        "    if state[\"messages\"]:\n",
        "        new_output = llm_with_tools.invoke([ECCOBOT_SYSINT] + state[\"messages\"])\n",
        "    else:\n",
        "        new_output = AIMessage(content=WELCOME_MSG)\n",
        "\n",
        "    # Set up some defaults if not already set, then pass through the provided state,\n",
        "    # overriding only the \"messages\" field.\n",
        "    return defaults | state | {\"messages\": [new_output]}\n",
        "\n",
        "\n",
        "graph_builder = StateGraph(SessionState)\n",
        "\n",
        "# Add the nodes, including the new tool_node.\n",
        "graph_builder.add_node(\"chatbot\", chatbot_with_tools)\n",
        "graph_builder.add_node(\"human\", human_node)\n",
        "graph_builder.add_node(\"tools\", tool_node)\n",
        "\n",
        "# Chatbot may go to tools, or human.\n",
        "graph_builder.add_conditional_edges(\"chatbot\", maybe_route_to_tools)\n",
        "# Human may go back to chatbot, or exit.\n",
        "graph_builder.add_conditional_edges(\"human\", maybe_exit_human_node)\n",
        "\n",
        "# Tools always route back to chat afterwards.\n",
        "graph_builder.add_edge(\"tools\", \"chatbot\")\n",
        "\n",
        "graph_builder.add_edge(START, \"chatbot\")\n",
        "graph_with_menu = graph_builder.compile()\n",
        "\n",
        "Image(graph_with_menu.get_graph().draw_mermaid_png())"
      ]
    },
    {
      "cell_type": "code",
      "execution_count": null,
      "metadata": {
        "colab": {
          "base_uri": "https://localhost:8080/"
        },
        "id": "0Xm8vv_-8gdD",
        "outputId": "7592d99d-0f03-4d06-e6ef-2ce0185bb26a"
      },
      "outputs": [
        {
          "name": "stdout",
          "output_type": "stream",
          "text": [
            "Model: Welcome to Recco. Type `q` to quit. How may I help you today?\n",
            "User: iphones\n",
            "Hello world\n",
            "Model: Okay, I found a few iPhones for you:\n",
            "\n",
            "*   **Product Name:** iphone 15 pro max 128GB 8GB\n",
            "    *   **Summary:** High-end smartphone with 128GB storage and 8GB RAM, known for its powerful performance and advanced camera capabilities.\n",
            "    *   **Explanation:** This is a flagship smartphone with a large number of ratings, indicating its popularity. If you're looking for a top-tier iPhone experience, this is a solid option. It's priced at $999, which is standard for premium smartphones.\n",
            "    *   **Link:** [https://www.amazon.com/](https://www.amazon.com/)\n",
            "\n",
            "*   **Product Name:** iphone 16 pro max 256 GB 16 GB\n",
            "    *   **Summary:** The newest phone with larger storage of 256 GB and 16 GB RAM, making it suitable for users who need more storage and even better performance.\n",
            "    *   **Explanation:** This is the newest phone with the better specs. It is priced at $1199, which is more expensive than the iphone 15 pro max.\n",
            "    *   **Link:** [https://www.amazon.com/](https://www.amazon.com/)\n",
            "\n",
            "*   **Product Name:** iphone 16 e\n",
            "    *   **Summary:** This is the newest iphone with high ratings.\n",
            "    *   **Explanation:** If you are looking for the newest iphone, this is the phone for you. It is priced at $999.\n",
            "    *   **Link:** [https://www.amazon.com/](https://www.amazon.com/)\n",
            "\n",
            "There were also recommendations for the Google Pixel and Samsung Galaxy Z. Let me know if any of these products interest you!\n",
            "User: q\n"
          ]
        }
      ],
      "source": [
        "state = graph_with_menu.invoke({\"messages\": []}, config)"
      ]
    },
    {
      "cell_type": "code",
      "execution_count": null,
      "metadata": {
        "id": "mplusKAUXuPK"
      },
      "outputs": [],
      "source": [
        "from collections.abc import Iterable\n",
        "from random import randint\n",
        "\n",
        "from langchain_core.messages.tool import ToolMessage\n",
        "\n",
        "# These functions have no body; LangGraph does not allow @tools to update\n",
        "# the conversation state, so you will implement a separate node to handle\n",
        "# state updates. Using @tools is still very convenient for defining the tool\n",
        "# schema, so empty functions have been defined that will be bound to the LLM\n",
        "# but their implementation is deferred to the order_node.\n",
        "class AddToOrderArgs(BaseModel):\n",
        "    product: str = Field(..., description=\"The product to add to the order\")\n",
        "    quantity: int = Field(1, description = \"Number of units to add\")\n",
        "\n",
        "@tool(args_schema=AddToOrderArgs)\n",
        "def add_to_order(product: str, quantity: int = 1) -> str:\n",
        "    \"\"\"Adds the specified product to the customer's order,and the quantity.\n",
        "    By default, the quantity is assumed to be 1.\n",
        "\n",
        "    Returns:\n",
        "      The updated order in progress.\n",
        "    \"\"\"\n",
        "\n",
        "@tool\n",
        "def confirm_order() -> str:\n",
        "    \"\"\"Asks the customer if the order is correct.\n",
        "\n",
        "    Returns:\n",
        "      The user's free-text response.\n",
        "    \"\"\"\n",
        "@tool\n",
        "def get_order() -> str:\n",
        "    \"\"\"Returns the users order so far. One item per line.\"\"\"\n",
        "\n",
        "@tool\n",
        "def clear_order():\n",
        "    \"\"\"Removes all items from the user's order.\"\"\"\n",
        "\n",
        "# tool\n",
        "# def modify_order(product: str):\n",
        "#     \"\"\"Removes given product from the user's order.\n",
        "#     \"\"\"\n",
        "\n",
        "class RemoveProductArgs(BaseModel):\n",
        "    product: str = Field(..., description=\"The product to remove from the order\")\n",
        "\n",
        "@tool(args_schema=RemoveProductArgs)\n",
        "def remove_item_from_order(product: str) -> str:\n",
        "  \"\"\"\n",
        "    Returns the updated order after removing the product\n",
        "  \"\"\"\n",
        "\n",
        "class PlaceOrderArgs(BaseModel):\n",
        "    address: str = Field(..., description=\"The address to which the order to be shipped to\")\n",
        "\n",
        "@tool(args_schema=PlaceOrderArgs)\n",
        "def place_order(address: str) -> int:\n",
        "    \"\"\"Sends the order to the warehouse for fulfillment and the items\n",
        "    are delivered to given address.\n",
        "\n",
        "    Returns:\n",
        "      The estimated number of days until the order is delivered.\n",
        "    \"\"\"\n",
        "\n",
        "def order_node(state: SessionState) -> SessionState:\n",
        "    \"\"\"The ordering node. This is where the order state is manipulated.\"\"\"\n",
        "    tool_msg = state.get(\"messages\", [])[-1]\n",
        "    order = state.get(\"order\", [])\n",
        "    # order = state.get(\"order\", [])\n",
        "    outbound_msgs = []\n",
        "    order_placed = False\n",
        "\n",
        "    for tool_call in tool_msg.tool_calls:\n",
        "      if tool_call[\"name\"] == \"add_to_order\":\n",
        "        product = tool_call['args']['product']\n",
        "        quantity = tool_call['args'].get('quantity', 1)\n",
        "        order.append(f'{product}:{quantity}')\n",
        "        # order[product]=quantity\n",
        "        response = \"\\n\".join(order)\n",
        "\n",
        "      elif tool_call[\"name\"] == \"confirm_order\":\n",
        "        print(\"Your order:\")\n",
        "        if not order:\n",
        "          print(\"  (no items)\")\n",
        "\n",
        "        for drink in order:\n",
        "          print(f\"  {drink}\")\n",
        "\n",
        "        response = input(\"Is this correct? \")\n",
        "\n",
        "      elif tool_call[\"name\"] == \"get_order\":\n",
        "        response = \"\\n\".join(order) if order else \"(no order)\"\n",
        "\n",
        "      elif tool_call[\"name\"] == \"clear_order\":\n",
        "        order.clear()\n",
        "        response = None\n",
        "\n",
        "      elif tool_call[\"name\"] == \"remove_item_from_order\":\n",
        "        product = tool_call[\"args\"][\"product\"]\n",
        "        order = [item for item in order if product.lower() not in item.lower()]\n",
        "        response = \"\\n\".join(order)\n",
        "\n",
        "      elif tool_call[\"name\"] == \"place_order\":\n",
        "        order_text = \"\\n\".join(order)\n",
        "        print(\"Sending order to the Warehouse!\")\n",
        "        print(order_text)\n",
        "\n",
        "        order_placed = True\n",
        "        eta_days = randint(2,7) #ETA in days\n",
        "      # elif tool_call[\"name\"] == \"update_order\":\n",
        "        response = (\n",
        "        f\"✅ Your order has been placed!\\n\"\n",
        "        f\"🕒 Estimated delivery: {eta_days} day{'s' if eta_days > 1 else ''}.\\n\\n\"\n",
        "        \"📦 Would you like to order anything else?\"\n",
        "    )\n",
        "\n",
        "      else:\n",
        "        raise NotImplementedError(f'Unknown tool call: {tool_call[\"name\"]}')\n",
        "\n",
        "      outbound_msgs.append(\n",
        "            ToolMessage(\n",
        "                content=response,\n",
        "                name=tool_call[\"name\"],\n",
        "                tool_call_id=tool_call[\"id\"],\n",
        "            )\n",
        "        )\n",
        "    return {\"messages\": outbound_msgs, \"order\": order, \"finished\": order_placed}\n",
        "\n",
        "def maybe_route_to_tools(state: SessionState) -> str:\n",
        "    \"\"\"Route between chat and tool nodes if a tool call is made.\"\"\"\n",
        "    if not (msgs := state.get(\"messages\", [])):\n",
        "        raise ValueError(f\"No messages found when parsing state: {state}\")\n",
        "\n",
        "    msg = msgs[-1]\n",
        "\n",
        "    if state.get(\"finished\", False):\n",
        "        # When an order is placed, exit the app. The system instruction indicates\n",
        "        # that the chatbot should say thanks and goodbye at this point, so we can exit\n",
        "        # cleanly.\n",
        "        return END\n",
        "\n",
        "    elif hasattr(msg, \"tool_calls\") and len(msg.tool_calls) > 0:\n",
        "        # Route to `tools` node for any automated tool calls first.\n",
        "        if any(\n",
        "            tool[\"name\"] in tool_node.tools_by_name.keys() for tool in msg.tool_calls\n",
        "        ):\n",
        "            return \"tools\"\n",
        "        else:\n",
        "            return \"ordering\"\n",
        "\n",
        "    else:\n",
        "        return \"human\""
      ]
    },
    {
      "cell_type": "code",
      "execution_count": null,
      "metadata": {
        "colab": {
          "base_uri": "https://localhost:8080/",
          "height": 350
        },
        "id": "kjNx4GmFYhda",
        "outputId": "ff6dd1bf-1a86-4e73-f090-33d716c1ddef"
      },
      "outputs": [
        {
          "data": {
            "image/png": "[encoded data removed]",
            "text/plain": [
              "<IPython.core.display.Image object>"
            ]
          },
          "execution_count": 93,
          "metadata": {},
          "output_type": "execute_result"
        }
      ],
      "source": [
        "# Auto-tools will be invoked automatically by the ToolNode\n",
        "auto_tools = [get_recommendations]\n",
        "tool_node = ToolNode(auto_tools)\n",
        "\n",
        "# Order-tools will be handled by the order node.\n",
        "order_tools = [add_to_order, confirm_order, get_order, clear_order, place_order, remove_item_from_order ]\n",
        "\n",
        "# The LLM needs to know about all of the tools, so specify everything here.\n",
        "llm_with_tools = llm.bind_tools(auto_tools + order_tools)\n",
        "\n",
        "\n",
        "graph_builder = StateGraph(SessionState)\n",
        "\n",
        "# Nodes\n",
        "graph_builder.add_node(\"chatbot\", chatbot_with_tools)\n",
        "graph_builder.add_node(\"human\", human_node)\n",
        "graph_builder.add_node(\"tools\", tool_node)\n",
        "graph_builder.add_node(\"ordering\", order_node)\n",
        "\n",
        "# Chatbot -> {ordering, tools, human, END}\n",
        "graph_builder.add_conditional_edges(\"chatbot\", maybe_route_to_tools)\n",
        "# Human -> {chatbot, END}\n",
        "graph_builder.add_conditional_edges(\"human\", maybe_exit_human_node)\n",
        "\n",
        "# Tools (both kinds) always route back to chat afterwards.\n",
        "graph_builder.add_edge(\"tools\", \"chatbot\")\n",
        "graph_builder.add_edge(\"ordering\", \"chatbot\")\n",
        "\n",
        "graph_builder.add_edge(START, \"chatbot\")\n",
        "graph_with_order_tools = graph_builder.compile()\n",
        "\n",
        "Image(graph_with_order_tools.get_graph().draw_mermaid_png())"
      ]
    },
    {
      "cell_type": "code",
      "execution_count": null,
      "metadata": {
        "colab": {
          "background_save": true,
          "base_uri": "https://localhost:8080/"
        },
        "id": "LEjh7qgYmkQG",
        "outputId": "ae8ad361-5354-4dd7-81d4-5c00f04e71ea"
      },
      "outputs": [
        {
          "metadata": {
            "tags": null
          },
          "name": "stdout",
          "output_type": "stream",
          "text": [
            "Model: Welcome to Recco. Type `q` to quit. How may I help you today?\n",
            "Hello world\n",
            "Model: Here are some iPhones that I found for you:\n",
            "\n",
            "*   **Product Name:** iPhone 15 Pro Max 128GB 8GB\n",
            "    *   **Summary:** Apple's flagship iPhone 15 Pro Max, featuring 128GB of storage and 8GB of RAM, known for its powerful performance and advanced camera system.\n",
            "    *   **Explanation:** This is a solid, well-rated option if you're already in the Apple ecosystem or prefer iOS. It offers ample storage and RAM for most users. The high number of ratings (2343) suggests it's a popular and generally well-received choice. At $999, it is similarly priced to other phones in the list but has more ratings.\n",
            "    *   **Link:** [https://www.amazon.com/](https://www.amazon.com/)\n",
            "\n",
            "*   **Product Name:** iPhone 16 Pro Max 256 GB 16 GB\n",
            "    *   **Summary:** This is the next generation of iPhones, with double the storage and RAM compared to the iPhone 15 Pro Max.\n",
            "    *   **Explanation:** If you need extra storage and better performance, the iphone 16 could be a good option. It comes at a slightly higher price than the iphone 15 ($1199), however, with only 243 ratings, it is a less popular choice.\n",
            "    *   **Link:** [https://www.amazon.com/](https://www.amazon.com/)\n",
            "\n",
            "*   **Product Name:** Google Pixel\n",
            "    *   **Summary:** Google's Pixel phone, known for its clean Android experience, excellent camera (especially in low light), and timely software updates.\n",
            "    *   **Explanation:** The Google Pixel is a good alternative to iPhones if you prefer Android. It is also priced at $999, but only has 23 ratings.\n",
            "    *   **Link:** [https://www.amazon.com/](https://www.amazon.com/)\n",
            "\n",
            "*   **Product Name:** Samsung Galaxy Z\n",
            "    *   **Summary:** Samsung's Galaxy Z, likely referring to a foldable phone like the Z Fold or Z Flip series, known for their innovative design and large, immersive displays.\n",
            "    *   **Explanation:** If you're looking for something different and innovative, a foldable phone like the Galaxy Z might appeal to you. They offer a unique user experience and are great for multitasking and media consumption. It is priced similarly to the iPhone 15 and google pixel with 233 ratings.\n",
            "    *   **Link:** [https://www.amazon.com/](https://www.amazon.com/)\n",
            "\n",
            "*   **Product Name:** iPhone 16 e\n",
            "    *   **Summary:** Another version of the iPhone 16\n",
            "    *   **Explanation:** Given the lack of further specifications, it's difficult to know exactly what differentiates this model. Check product link for details. It shares the same popularity as iPhone 15, and may be a good choice.\n",
            "    *   **Link:** [https://www.amazon.com/](https://www.amazon.com/)\n",
            "\n",
            "Would you like to add any of these to your order?\n",
            "Model: Which iPhone would you like to add to your order? We have the following options: iPhone 15 Pro Max 128GB 8GB, iPhone 16 Pro Max 256 GB 16 GB, and iPhone 16 e.\n",
            "Model: OK. I've added 2 units of iPhone 16 e to your order. Is there anything else I can help you with?\n",
            "Hello world\n",
            "Model: I am sorry, but it seems that I can only find phone recommendations when searching for \"laptop\". Would you like to search for phones, or is there another product you would like me to search for?\n",
            "Model: Ok, I have added one Google Pixel to your order. Would you like to confirm your order?\n",
            "Model: Here is your current order:\n",
            "iPhone 16 e: 2\n",
            "google pixel: 1\n",
            "\n",
            "Is this correct?\n",
            "Your order:\n",
            "  iPhone 16 e:2.0\n",
            "  google pixel:1\n",
            "Model: Okay, I understand that you confirm the order. Can you please provide the address to ship your order?\n",
            "Model: Okay, I have removed the Google Pixel from your order. Your order now contains 2 units of iPhone 16 e. Is there anything else I can help you with?\n",
            "Model: I am sorry, but the \"samsung phone\" is not in your current order. Your order contains 2 units of iPhone 16 e.\n",
            "Is there anything else I can help you with?\n"
          ]
        }
      ],
      "source": [
        "state = graph_with_order_tools.invoke({\"messages\": []}, config)"
      ]
    },
    {
      "cell_type": "code",
      "execution_count": null,
      "metadata": {
        "colab": {
          "base_uri": "https://localhost:8080/"
        },
        "id": "whpWGkV4-Xkx",
        "outputId": "360fcd4d-4915-436a-c98d-14039c7a5c00"
      },
      "outputs": [
        {
          "name": "stdout",
          "output_type": "stream",
          "text": [
            "Collecting gradio\n",
            "  Downloading gradio-5.25.0-py3-none-any.whl.metadata (16 kB)\n",
            "Collecting aiofiles<25.0,>=22.0 (from gradio)\n",
            "  Downloading aiofiles-24.1.0-py3-none-any.whl.metadata (10 kB)\n",
            "Requirement already satisfied: anyio<5.0,>=3.0 in /usr/local/lib/python3.11/dist-packages (from gradio) (4.9.0)\n",
            "Collecting fastapi<1.0,>=0.115.2 (from gradio)\n",
            "  Downloading fastapi-0.115.12-py3-none-any.whl.metadata (27 kB)\n",
            "Collecting ffmpy (from gradio)\n",
            "  Downloading ffmpy-0.5.0-py3-none-any.whl.metadata (3.0 kB)\n",
            "Collecting gradio-client==1.8.0 (from gradio)\n",
            "  Downloading gradio_client-1.8.0-py3-none-any.whl.metadata (7.1 kB)\n",
            "Collecting groovy~=0.1 (from gradio)\n",
            "  Downloading groovy-0.1.2-py3-none-any.whl.metadata (6.1 kB)\n",
            "Requirement already satisfied: httpx>=0.24.1 in /usr/local/lib/python3.11/dist-packages (from gradio) (0.28.1)\n",
            "Requirement already satisfied: huggingface-hub>=0.28.1 in /usr/local/lib/python3.11/dist-packages (from gradio) (0.30.1)\n",
            "Requirement already satisfied: jinja2<4.0 in /usr/local/lib/python3.11/dist-packages (from gradio) (3.1.6)\n",
            "Requirement already satisfied: markupsafe<4.0,>=2.0 in /usr/local/lib/python3.11/dist-packages (from gradio) (3.0.2)\n",
            "Requirement already satisfied: numpy<3.0,>=1.0 in /usr/local/lib/python3.11/dist-packages (from gradio) (2.0.2)\n",
            "Requirement already satisfied: orjson~=3.0 in /usr/local/lib/python3.11/dist-packages (from gradio) (3.10.16)\n",
            "Requirement already satisfied: packaging in /usr/local/lib/python3.11/dist-packages (from gradio) (24.2)\n",
            "Requirement already satisfied: pandas<3.0,>=1.0 in /usr/local/lib/python3.11/dist-packages (from gradio) (2.2.2)\n",
            "Requirement already satisfied: pillow<12.0,>=8.0 in /usr/local/lib/python3.11/dist-packages (from gradio) (11.1.0)\n",
            "Requirement already satisfied: pydantic<2.12,>=2.0 in /usr/local/lib/python3.11/dist-packages (from gradio) (2.11.2)\n",
            "Collecting pydub (from gradio)\n",
            "  Downloading pydub-0.25.1-py2.py3-none-any.whl.metadata (1.4 kB)\n",
            "Collecting python-multipart>=0.0.18 (from gradio)\n",
            "  Downloading python_multipart-0.0.20-py3-none-any.whl.metadata (1.8 kB)\n",
            "Requirement already satisfied: pyyaml<7.0,>=5.0 in /usr/local/lib/python3.11/dist-packages (from gradio) (6.0.2)\n",
            "Collecting ruff>=0.9.3 (from gradio)\n",
            "  Downloading ruff-0.11.5-py3-none-manylinux_2_17_x86_64.manylinux2014_x86_64.whl.metadata (25 kB)\n",
            "Collecting safehttpx<0.2.0,>=0.1.6 (from gradio)\n",
            "  Downloading safehttpx-0.1.6-py3-none-any.whl.metadata (4.2 kB)\n",
            "Collecting semantic-version~=2.0 (from gradio)\n",
            "  Downloading semantic_version-2.10.0-py2.py3-none-any.whl.metadata (9.7 kB)\n",
            "Collecting starlette<1.0,>=0.40.0 (from gradio)\n",
            "  Downloading starlette-0.46.2-py3-none-any.whl.metadata (6.2 kB)\n",
            "Collecting tomlkit<0.14.0,>=0.12.0 (from gradio)\n",
            "  Downloading tomlkit-0.13.2-py3-none-any.whl.metadata (2.7 kB)\n",
            "Requirement already satisfied: typer<1.0,>=0.12 in /usr/local/lib/python3.11/dist-packages (from gradio) (0.15.2)\n",
            "Requirement already satisfied: typing-extensions~=4.0 in /usr/local/lib/python3.11/dist-packages (from gradio) (4.13.1)\n",
            "Collecting uvicorn>=0.14.0 (from gradio)\n",
            "  Downloading uvicorn-0.34.1-py3-none-any.whl.metadata (6.5 kB)\n",
            "Requirement already satisfied: fsspec in /usr/local/lib/python3.11/dist-packages (from gradio-client==1.8.0->gradio) (2025.3.2)\n",
            "Requirement already satisfied: websockets<16.0,>=10.0 in /usr/local/lib/python3.11/dist-packages (from gradio-client==1.8.0->gradio) (15.0.1)\n",
            "Requirement already satisfied: idna>=2.8 in /usr/local/lib/python3.11/dist-packages (from anyio<5.0,>=3.0->gradio) (3.10)\n",
            "Requirement already satisfied: sniffio>=1.1 in /usr/local/lib/python3.11/dist-packages (from anyio<5.0,>=3.0->gradio) (1.3.1)\n",
            "Requirement already satisfied: certifi in /usr/local/lib/python3.11/dist-packages (from httpx>=0.24.1->gradio) (2025.1.31)\n",
            "Requirement already satisfied: httpcore==1.* in /usr/local/lib/python3.11/dist-packages (from httpx>=0.24.1->gradio) (1.0.7)\n",
            "Requirement already satisfied: h11<0.15,>=0.13 in /usr/local/lib/python3.11/dist-packages (from httpcore==1.*->httpx>=0.24.1->gradio) (0.14.0)\n",
            "Requirement already satisfied: filelock in /usr/local/lib/python3.11/dist-packages (from huggingface-hub>=0.28.1->gradio) (3.18.0)\n",
            "Requirement already satisfied: requests in /usr/local/lib/python3.11/dist-packages (from huggingface-hub>=0.28.1->gradio) (2.32.3)\n",
            "Requirement already satisfied: tqdm>=4.42.1 in /usr/local/lib/python3.11/dist-packages (from huggingface-hub>=0.28.1->gradio) (4.67.1)\n",
            "Requirement already satisfied: python-dateutil>=2.8.2 in /usr/local/lib/python3.11/dist-packages (from pandas<3.0,>=1.0->gradio) (2.8.2)\n",
            "Requirement already satisfied: pytz>=2020.1 in /usr/local/lib/python3.11/dist-packages (from pandas<3.0,>=1.0->gradio) (2025.2)\n",
            "Requirement already satisfied: tzdata>=2022.7 in /usr/local/lib/python3.11/dist-packages (from pandas<3.0,>=1.0->gradio) (2025.2)\n",
            "Requirement already satisfied: annotated-types>=0.6.0 in /usr/local/lib/python3.11/dist-packages (from pydantic<2.12,>=2.0->gradio) (0.7.0)\n",
            "Requirement already satisfied: pydantic-core==2.33.1 in /usr/local/lib/python3.11/dist-packages (from pydantic<2.12,>=2.0->gradio) (2.33.1)\n",
            "Requirement already satisfied: typing-inspection>=0.4.0 in /usr/local/lib/python3.11/dist-packages (from pydantic<2.12,>=2.0->gradio) (0.4.0)\n",
            "Requirement already satisfied: click>=8.0.0 in /usr/local/lib/python3.11/dist-packages (from typer<1.0,>=0.12->gradio) (8.1.8)\n",
            "Requirement already satisfied: shellingham>=1.3.0 in /usr/local/lib/python3.11/dist-packages (from typer<1.0,>=0.12->gradio) (1.5.4)\n",
            "Requirement already satisfied: rich>=10.11.0 in /usr/local/lib/python3.11/dist-packages (from typer<1.0,>=0.12->gradio) (13.9.4)\n",
            "Requirement already satisfied: six>=1.5 in /usr/local/lib/python3.11/dist-packages (from python-dateutil>=2.8.2->pandas<3.0,>=1.0->gradio) (1.17.0)\n",
            "Requirement already satisfied: markdown-it-py>=2.2.0 in /usr/local/lib/python3.11/dist-packages (from rich>=10.11.0->typer<1.0,>=0.12->gradio) (3.0.0)\n",
            "Requirement already satisfied: pygments<3.0.0,>=2.13.0 in /usr/local/lib/python3.11/dist-packages (from rich>=10.11.0->typer<1.0,>=0.12->gradio) (2.18.0)\n",
            "Requirement already satisfied: charset-normalizer<4,>=2 in /usr/local/lib/python3.11/dist-packages (from requests->huggingface-hub>=0.28.1->gradio) (3.4.1)\n",
            "Requirement already satisfied: urllib3<3,>=1.21.1 in /usr/local/lib/python3.11/dist-packages (from requests->huggingface-hub>=0.28.1->gradio) (2.3.0)\n",
            "Requirement already satisfied: mdurl~=0.1 in /usr/local/lib/python3.11/dist-packages (from markdown-it-py>=2.2.0->rich>=10.11.0->typer<1.0,>=0.12->gradio) (0.1.2)\n",
            "Downloading gradio-5.25.0-py3-none-any.whl (46.9 MB)\n",
            "\u001b[2K   \u001b[90m━━━━━━━━━━━━━━━━━━━━━━━━━━━━━━━━━━━━━━━━\u001b[0m \u001b[32m46.9/46.9 MB\u001b[0m \u001b[31m17.5 MB/s\u001b[0m eta \u001b[36m0:00:00\u001b[0m\n",
            "\u001b[?25hDownloading gradio_client-1.8.0-py3-none-any.whl (322 kB)\n",
            "\u001b[2K   \u001b[90m━━━━━━━━━━━━━━━━━━━━━━━━━━━━━━━━━━━━━━━━\u001b[0m \u001b[32m322.2/322.2 kB\u001b[0m \u001b[31m20.6 MB/s\u001b[0m eta \u001b[36m0:00:00\u001b[0m\n",
            "\u001b[?25hDownloading aiofiles-24.1.0-py3-none-any.whl (15 kB)\n",
            "Downloading fastapi-0.115.12-py3-none-any.whl (95 kB)\n",
            "\u001b[2K   \u001b[90m━━━━━━━━━━━━━━━━━━━━━━━━━━━━━━━━━━━━━━━━\u001b[0m \u001b[32m95.2/95.2 kB\u001b[0m \u001b[31m7.3 MB/s\u001b[0m eta \u001b[36m0:00:00\u001b[0m\n",
            "\u001b[?25hDownloading groovy-0.1.2-py3-none-any.whl (14 kB)\n",
            "Downloading python_multipart-0.0.20-py3-none-any.whl (24 kB)\n",
            "Downloading ruff-0.11.5-py3-none-manylinux_2_17_x86_64.manylinux2014_x86_64.whl (11.4 MB)\n",
            "\u001b[2K   \u001b[90m━━━━━━━━━━━━━━━━━━━━━━━━━━━━━━━━━━━━━━━━\u001b[0m \u001b[32m11.4/11.4 MB\u001b[0m \u001b[31m47.7 MB/s\u001b[0m eta \u001b[36m0:00:00\u001b[0m\n",
            "\u001b[?25hDownloading safehttpx-0.1.6-py3-none-any.whl (8.7 kB)\n",
            "Downloading semantic_version-2.10.0-py2.py3-none-any.whl (15 kB)\n",
            "Downloading starlette-0.46.2-py3-none-any.whl (72 kB)\n",
            "\u001b[2K   \u001b[90m━━━━━━━━━━━━━━━━━━━━━━━━━━━━━━━━━━━━━━━━\u001b[0m \u001b[32m72.0/72.0 kB\u001b[0m \u001b[31m5.2 MB/s\u001b[0m eta \u001b[36m0:00:00\u001b[0m\n",
            "\u001b[?25hDownloading tomlkit-0.13.2-py3-none-any.whl (37 kB)\n",
            "Downloading uvicorn-0.34.1-py3-none-any.whl (62 kB)\n",
            "\u001b[2K   \u001b[90m━━━━━━━━━━━━━━━━━━━━━━━━━━━━━━━━━━━━━━━━\u001b[0m \u001b[32m62.4/62.4 kB\u001b[0m \u001b[31m5.0 MB/s\u001b[0m eta \u001b[36m0:00:00\u001b[0m\n",
            "\u001b[?25hDownloading ffmpy-0.5.0-py3-none-any.whl (6.0 kB)\n",
            "Downloading pydub-0.25.1-py2.py3-none-any.whl (32 kB)\n",
            "Installing collected packages: pydub, uvicorn, tomlkit, semantic-version, ruff, python-multipart, groovy, ffmpy, aiofiles, starlette, safehttpx, gradio-client, fastapi, gradio\n",
            "Successfully installed aiofiles-24.1.0 fastapi-0.115.12 ffmpy-0.5.0 gradio-5.25.0 gradio-client-1.8.0 groovy-0.1.2 pydub-0.25.1 python-multipart-0.0.20 ruff-0.11.5 safehttpx-0.1.6 semantic-version-2.10.0 starlette-0.46.2 tomlkit-0.13.2 uvicorn-0.34.1\n"
          ]
        }
      ],
      "source": [
        "pip install gradio"
      ]
    },
    {
      "cell_type": "code",
      "execution_count": null,
      "metadata": {
        "colab": {
          "base_uri": "https://localhost:8080/",
          "height": 680
        },
        "id": "owJulswpmrYn",
        "outputId": "53e08e65-120f-40b2-80de-dd3669490644"
      },
      "outputs": [
        {
          "name": "stderr",
          "output_type": "stream",
          "text": [
            "<ipython-input-77-257628726e96>:51: UserWarning: You have not specified a value for the `type` parameter. Defaulting to the 'tuples' format for chatbot messages, but this is deprecated and will be removed in a future version of Gradio. Please set type='messages' instead, which uses openai-style dictionaries with 'role' and 'content' keys.\n",
            "  chatbot=gr.Chatbot(label=\"🛒 EccoBot - Order Assistant\"),\n",
            "/usr/local/lib/python3.11/dist-packages/gradio/chat_interface.py:321: UserWarning: The gr.ChatInterface was not provided with a type, so the type of the gr.Chatbot, 'tuples', will be used.\n",
            "  warnings.warn(\n"
          ]
        },
        {
          "name": "stdout",
          "output_type": "stream",
          "text": [
            "Colab notebook detected. To show errors in colab notebook, set debug=True in launch()\n",
            "* Running on public URL: https://4642baa49fc1982c8d.gradio.live\n",
            "\n",
            "This share link expires in 72 hours. For free permanent hosting and GPU upgrades, run `gradio deploy` from the terminal in the working directory to deploy to Hugging Face Spaces (https://huggingface.co/spaces)\n"
          ]
        },
        {
          "data": {
            "text/html": [
              "<div><iframe src=\"https://4642baa49fc1982c8d.gradio.live\" width=\"100%\" height=\"500\" allow=\"autoplay; camera; microphone; clipboard-read; clipboard-write;\" frameborder=\"0\" allowfullscreen></iframe></div>"
            ],
            "text/plain": [
              "<IPython.core.display.HTML object>"
            ]
          },
          "metadata": {},
          "output_type": "display_data"
        },
        {
          "data": {
            "text/plain": []
          },
          "execution_count": 77,
          "metadata": {},
          "output_type": "execute_result"
        }
      ],
      "source": [
        "import gradio as gr\n",
        "from langchain_core.messages import HumanMessage, AIMessage\n",
        "\n",
        "# Setup complete session state (must match SessionState structure)\n",
        "chat_state = {\n",
        "    \"messages\": [],\n",
        "    \"order\": [],\n",
        "    \"finished\": False\n",
        "}\n",
        "\n",
        "def run_eccobot(user_input):\n",
        "    try:\n",
        "        # Add user message\n",
        "        chat_state[\"messages\"].append(HumanMessage(content=user_input))\n",
        "\n",
        "        # Run the LangGraph agent\n",
        "        updated_state = graph_with_order_tools.invoke({\n",
        "            \"messages\": chat_state[\"messages\"],\n",
        "            \"order\": chat_state[\"order\"],\n",
        "            \"finished\": chat_state[\"finished\"]\n",
        "        })\n",
        "\n",
        "        # Extract the latest AI message\n",
        "        response = \"\"\n",
        "        for msg in reversed(updated_state[\"messages\"]):\n",
        "            if isinstance(msg, AIMessage):\n",
        "                response = msg.content\n",
        "                break\n",
        "\n",
        "        # Update full session state\n",
        "        chat_state[\"messages\"] = updated_state[\"messages\"]\n",
        "        chat_state[\"order\"] = updated_state.get(\"order\", [])\n",
        "        chat_state[\"finished\"] = updated_state.get(\"finished\", False)\n",
        "\n",
        "        # If the session ended\n",
        "        if chat_state[\"finished\"]:\n",
        "            chat_state[\"messages\"] = []\n",
        "            chat_state[\"order\"] = []\n",
        "            chat_state[\"finished\"] = False\n",
        "            response += \"\\n\\n✅ Order placed. Start a new one anytime!\"\n",
        "\n",
        "        return response\n",
        "\n",
        "    except Exception as e:\n",
        "        import traceback\n",
        "        return f\"❌ Error:\\n```\\n{traceback.format_exc()}\\n```\"\n",
        "\n",
        "# Gradio Interface (for Colab)\n",
        "gr.ChatInterface(\n",
        "    fn=run_eccobot,\n",
        "    chatbot=gr.Chatbot(label=\"🛒 EccoBot - Order Assistant\"),\n",
        "    textbox=gr.Textbox(placeholder=\"Ask about iPhones, place order, etc.\", scale=7),\n",
        "    title=\"🤖 EccoBot (LangGraph + Gradio)\",\n",
        "    description=\"Your shopping companion. Ask about products, manage your cart, and place orders.\",\n",
        "    theme=\"soft\"\n",
        ").launch(share=True)\n"
      ]
    },
    {
      "cell_type": "code",
      "execution_count": null,
      "metadata": {
        "id": "AELXeMkoID6L"
      },
      "outputs": [],
      "source": []
    }
  ],
  "metadata": {
    "colab": {
      "provenance": []
    },
    "kernelspec": {
      "display_name": "Python 3",
      "name": "python3"
    },
    "language_info": {
      "name": "python"
    }
  },
  "nbformat": 4,
  "nbformat_minor": 0
}